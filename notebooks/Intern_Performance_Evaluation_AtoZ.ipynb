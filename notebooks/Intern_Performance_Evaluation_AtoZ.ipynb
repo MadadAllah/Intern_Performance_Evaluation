{
 "cells": [
  {
   "cell_type": "markdown",
   "id": "e85c8062",
   "metadata": {},
   "source": [
    "# 📊 Internship Performance Evaluation Project\n",
    "\n",
    "This project tracks intern performance using key metrics such as task completion time, project quality, and mentor feedback. The goal is to evaluate intern contributions and generate monthly reports for supervisors."
   ]
  },
  {
   "cell_type": "markdown",
   "id": "74905121",
   "metadata": {},
   "source": [
    "## 📁 Import Required Libraries\n",
    "We start by importing all necessary libraries for data generation, manipulation, and analysis."
   ]
  },
  {
   "cell_type": "code",
   "execution_count": 27,
   "id": "fd191ea2",
   "metadata": {},
   "outputs": [],
   "source": [
    "import pandas as pd\n",
    "import numpy as np\n",
    "from faker import Faker\n",
    "import random\n",
    "import matplotlib.pyplot as plt\n",
    "import seaborn as sns\n",
    "\n",
    "# Initialize Faker and seeds\n",
    "fake = Faker()\n",
    "Faker.seed(42)\n",
    "np.random.seed(42)"
   ]
  },
  {
   "cell_type": "markdown",
   "id": "3960587a-3945-4b3a-9bb6-95062d69e404",
   "metadata": {},
   "source": [
    "# 📂 Load the dataset"
   ]
  },
  {
   "cell_type": "code",
   "execution_count": 38,
   "id": "008e2668-eaa4-4e1f-b685-3bc523cbaee3",
   "metadata": {},
   "outputs": [],
   "source": [
    "file_path = \"intern_performance_dataset.csv\"  # Ensure this file exists in the same folder\n",
    "df = pd.read_csv(file_path, parse_dates=['Date of Assignment', 'Date of Completion'])"
   ]
  },
  {
   "cell_type": "markdown",
   "id": "27ab88d4-c2eb-4f8f-b27c-136c3a5f7ff7",
   "metadata": {},
   "source": [
    "### ✅ Dataset Loaded Successfully!"
   ]
  },
  {
   "cell_type": "markdown",
   "id": "54af7edd-3b3d-468d-8e44-b8460be4dc29",
   "metadata": {},
   "source": [
    "- Total Records: 10,000+\n",
    "- Columns Include:\n",
    "  - Intern Details\n",
    "  - Department, Project, Interaction Level\n",
    "  - Task Completion Dates\n",
    "  - Mentor Feedback & Project Quality"
   ]
  },
  {
   "cell_type": "markdown",
   "id": "b50f3324-24fc-4353-bfb1-93ae3685878e",
   "metadata": {},
   "source": [
    "## 👁 Preview the data"
   ]
  },
  {
   "cell_type": "code",
   "execution_count": 35,
   "id": "d2379846-b669-42b2-84ca-eec3e09bbc37",
   "metadata": {},
   "outputs": [
    {
     "data": {
      "text/html": [
       "<div>\n",
       "<style scoped>\n",
       "    .dataframe tbody tr th:only-of-type {\n",
       "        vertical-align: middle;\n",
       "    }\n",
       "\n",
       "    .dataframe tbody tr th {\n",
       "        vertical-align: top;\n",
       "    }\n",
       "\n",
       "    .dataframe thead th {\n",
       "        text-align: right;\n",
       "    }\n",
       "</style>\n",
       "<table border=\"1\" class=\"dataframe\">\n",
       "  <thead>\n",
       "    <tr style=\"text-align: right;\">\n",
       "      <th></th>\n",
       "      <th>Intern ID</th>\n",
       "      <th>Intern Name</th>\n",
       "      <th>Department</th>\n",
       "      <th>Task Name</th>\n",
       "      <th>Project Assigned</th>\n",
       "      <th>Date of Assignment</th>\n",
       "      <th>Date of Completion</th>\n",
       "      <th>Month</th>\n",
       "      <th>Project_Quality_Score</th>\n",
       "      <th>Mentor_Feedback_Score</th>\n",
       "      <th>Completion_Status</th>\n",
       "      <th>Interaction_Level</th>\n",
       "    </tr>\n",
       "  </thead>\n",
       "  <tbody>\n",
       "    <tr>\n",
       "      <th>0</th>\n",
       "      <td>1000</td>\n",
       "      <td>Allison Hill</td>\n",
       "      <td>Tech</td>\n",
       "      <td>Task 29</td>\n",
       "      <td>SEO Campaign</td>\n",
       "      <td>2024-12-22</td>\n",
       "      <td>2024-12-25</td>\n",
       "      <td>December</td>\n",
       "      <td>10.0</td>\n",
       "      <td>5</td>\n",
       "      <td>Completed</td>\n",
       "      <td>Medium</td>\n",
       "    </tr>\n",
       "    <tr>\n",
       "      <th>1</th>\n",
       "      <td>1001</td>\n",
       "      <td>Megan Mcclain</td>\n",
       "      <td>Finance</td>\n",
       "      <td>Task 12</td>\n",
       "      <td>Brand Redesign</td>\n",
       "      <td>2025-03-19</td>\n",
       "      <td>2025-03-22</td>\n",
       "      <td>March</td>\n",
       "      <td>NaN</td>\n",
       "      <td>2</td>\n",
       "      <td>Dropped</td>\n",
       "      <td>High</td>\n",
       "    </tr>\n",
       "    <tr>\n",
       "      <th>2</th>\n",
       "      <td>1002</td>\n",
       "      <td>Allen Robinson</td>\n",
       "      <td>Finance</td>\n",
       "      <td>Task 65</td>\n",
       "      <td>Recruitment Drive</td>\n",
       "      <td>2025-03-21</td>\n",
       "      <td>NaT</td>\n",
       "      <td>March</td>\n",
       "      <td>NaN</td>\n",
       "      <td>2</td>\n",
       "      <td>Ongoing</td>\n",
       "      <td>Medium</td>\n",
       "    </tr>\n",
       "    <tr>\n",
       "      <th>3</th>\n",
       "      <td>1003</td>\n",
       "      <td>Cristian Santos</td>\n",
       "      <td>Finance</td>\n",
       "      <td>Task 70</td>\n",
       "      <td>Brand Redesign</td>\n",
       "      <td>2025-02-14</td>\n",
       "      <td>2025-02-20</td>\n",
       "      <td>February</td>\n",
       "      <td>9.0</td>\n",
       "      <td>3</td>\n",
       "      <td>Completed</td>\n",
       "      <td>High</td>\n",
       "    </tr>\n",
       "    <tr>\n",
       "      <th>4</th>\n",
       "      <td>1004</td>\n",
       "      <td>Kevin Pacheco</td>\n",
       "      <td>Marketing</td>\n",
       "      <td>Task 1</td>\n",
       "      <td>Budget Planning</td>\n",
       "      <td>2025-04-21</td>\n",
       "      <td>2025-04-26</td>\n",
       "      <td>April</td>\n",
       "      <td>NaN</td>\n",
       "      <td>2</td>\n",
       "      <td>Dropped</td>\n",
       "      <td>Low</td>\n",
       "    </tr>\n",
       "  </tbody>\n",
       "</table>\n",
       "</div>"
      ],
      "text/plain": [
       "   Intern ID      Intern Name Department Task Name   Project Assigned  \\\n",
       "0       1000     Allison Hill       Tech   Task 29       SEO Campaign   \n",
       "1       1001    Megan Mcclain    Finance   Task 12     Brand Redesign   \n",
       "2       1002   Allen Robinson    Finance   Task 65  Recruitment Drive   \n",
       "3       1003  Cristian Santos    Finance   Task 70     Brand Redesign   \n",
       "4       1004    Kevin Pacheco  Marketing    Task 1    Budget Planning   \n",
       "\n",
       "  Date of Assignment Date of Completion     Month  Project_Quality_Score  \\\n",
       "0         2024-12-22         2024-12-25  December                   10.0   \n",
       "1         2025-03-19         2025-03-22     March                    NaN   \n",
       "2         2025-03-21                NaT     March                    NaN   \n",
       "3         2025-02-14         2025-02-20  February                    9.0   \n",
       "4         2025-04-21         2025-04-26     April                    NaN   \n",
       "\n",
       "   Mentor_Feedback_Score Completion_Status Interaction_Level  \n",
       "0                      5         Completed            Medium  \n",
       "1                      2           Dropped              High  \n",
       "2                      2           Ongoing            Medium  \n",
       "3                      3         Completed              High  \n",
       "4                      2           Dropped               Low  "
      ]
     },
     "execution_count": 35,
     "metadata": {},
     "output_type": "execute_result"
    }
   ],
   "source": [
    "df.head()"
   ]
  },
  {
   "cell_type": "markdown",
   "id": "3d7335f5",
   "metadata": {},
   "source": [
    "## 🧹 Data Cleaning & Feature Engineering\n",
    "We'll calculate task completion days and handle missing values."
   ]
  },
  {
   "cell_type": "code",
   "execution_count": 44,
   "id": "c2f9b9ec",
   "metadata": {},
   "outputs": [
    {
     "data": {
      "text/html": [
       "<div>\n",
       "<style scoped>\n",
       "    .dataframe tbody tr th:only-of-type {\n",
       "        vertical-align: middle;\n",
       "    }\n",
       "\n",
       "    .dataframe tbody tr th {\n",
       "        vertical-align: top;\n",
       "    }\n",
       "\n",
       "    .dataframe thead th {\n",
       "        text-align: right;\n",
       "    }\n",
       "</style>\n",
       "<table border=\"1\" class=\"dataframe\">\n",
       "  <thead>\n",
       "    <tr style=\"text-align: right;\">\n",
       "      <th></th>\n",
       "      <th>Date of Assignment</th>\n",
       "      <th>Date of Completion</th>\n",
       "      <th>Task_Completion_Days</th>\n",
       "    </tr>\n",
       "  </thead>\n",
       "  <tbody>\n",
       "    <tr>\n",
       "      <th>0</th>\n",
       "      <td>2024-12-22</td>\n",
       "      <td>2024-12-25</td>\n",
       "      <td>3.0</td>\n",
       "    </tr>\n",
       "    <tr>\n",
       "      <th>1</th>\n",
       "      <td>2025-03-19</td>\n",
       "      <td>2025-03-22</td>\n",
       "      <td>3.0</td>\n",
       "    </tr>\n",
       "    <tr>\n",
       "      <th>2</th>\n",
       "      <td>2025-03-21</td>\n",
       "      <td>NaT</td>\n",
       "      <td>NaN</td>\n",
       "    </tr>\n",
       "    <tr>\n",
       "      <th>3</th>\n",
       "      <td>2025-02-14</td>\n",
       "      <td>2025-02-20</td>\n",
       "      <td>6.0</td>\n",
       "    </tr>\n",
       "    <tr>\n",
       "      <th>4</th>\n",
       "      <td>2025-04-21</td>\n",
       "      <td>2025-04-26</td>\n",
       "      <td>5.0</td>\n",
       "    </tr>\n",
       "  </tbody>\n",
       "</table>\n",
       "</div>"
      ],
      "text/plain": [
       "  Date of Assignment Date of Completion  Task_Completion_Days\n",
       "0         2024-12-22         2024-12-25                   3.0\n",
       "1         2025-03-19         2025-03-22                   3.0\n",
       "2         2025-03-21                NaT                   NaN\n",
       "3         2025-02-14         2025-02-20                   6.0\n",
       "4         2025-04-21         2025-04-26                   5.0"
      ]
     },
     "execution_count": 44,
     "metadata": {},
     "output_type": "execute_result"
    }
   ],
   "source": [
    "# Convert date columns to datetime\n",
    "df['Date of Assignment'] = pd.to_datetime(df['Date of Assignment'])\n",
    "df['Date of Completion'] = pd.to_datetime(df['Date of Completion'])\n",
    "\n",
    "# Calculate task completion days\n",
    "df['Task_Completion_Days'] = (df['Date of Completion'] - df['Date of Assignment']).dt.days\n",
    "\n",
    "# Fill missing values in scores (optional)\n",
    "df['Project_Quality_Score'].fillna(0, inplace=True)\n",
    "df['Mentor_Feedback_Score'].fillna(0, inplace=True)\n",
    "\n",
    "# Preview new data\n",
    "df[['Date of Assignment', 'Date of Completion', 'Task_Completion_Days']].head()"
   ]
  },
  {
   "cell_type": "markdown",
   "id": "10dfde45-fdcd-4631-ba37-30c29f070c47",
   "metadata": {},
   "source": [
    "- ✔️ Added column: `Task_Completion_Days`\n",
    "- ✔️ Handled missing values in quality and feedback scores\n",
    "- ✔️ Cleaned up month names"
   ]
  },
  {
   "cell_type": "markdown",
   "id": "abbdc2e3",
   "metadata": {},
   "source": [
    "## 📊 Exploratory Data Analysis\n",
    "Let’s visualize the data to understand performance trends."
   ]
  },
  {
   "cell_type": "code",
   "execution_count": 30,
   "id": "19e51960",
   "metadata": {},
   "outputs": [
    {
     "name": "stderr",
     "output_type": "stream",
     "text": [
      "C:\\Users\\Other User\\anaconda3\\Lib\\site-packages\\seaborn\\_oldcore.py:1119: FutureWarning: use_inf_as_na option is deprecated and will be removed in a future version. Convert inf values to NaN before operating instead.\n",
      "  with pd.option_context('mode.use_inf_as_na', True):\n"
     ]
    },
    {
     "data": {
      "image/png": "[encoded data removed]",
      "text/plain": [
       "<Figure size 1000x600 with 1 Axes>"
      ]
     },
     "metadata": {},
     "output_type": "display_data"
    }
   ],
   "source": [
    "# Task completion distribution\n",
    "plt.figure(figsize=(10, 6))\n",
    "sns.histplot(df['Task_Completion_Days'].dropna(), bins=20, kde=True, color='skyblue')\n",
    "plt.title('Distribution of Task Completion Days')\n",
    "plt.xlabel('Days')\n",
    "plt.ylabel('Number of Interns')\n",
    "plt.show()"
   ]
  },
  {
   "cell_type": "code",
   "execution_count": 31,
   "id": "2c298646-bc51-42a2-9c51-31e2c71d5b53",
   "metadata": {},
   "outputs": [
    {
     "data": {
      "image/png": "[encoded data removed]",
      "text/plain": [
       "<Figure size 1000x600 with 1 Axes>"
      ]
     },
     "metadata": {},
     "output_type": "display_data"
    }
   ],
   "source": [
    "# Average project quality by department\n",
    "plt.figure(figsize=(10, 6))\n",
    "df.groupby('Department')['Project_Quality_Score'].mean().sort_values().plot(kind='bar', color='mediumseagreen')\n",
    "plt.title('Average Project Quality Score by Department')\n",
    "plt.ylabel('Average Quality Score')\n",
    "plt.show()"
   ]
  },
  {
   "cell_type": "code",
   "execution_count": 32,
   "id": "9b65d980-ecf5-42e2-8fd9-62f05dd86277",
   "metadata": {},
   "outputs": [
    {
     "data": {
      "image/png": "[encoded data removed]",
      "text/plain": [
       "<Figure size 1000x600 with 1 Axes>"
      ]
     },
     "metadata": {},
     "output_type": "display_data"
    }
   ],
   "source": [
    "# Average mentor feedback by department\n",
    "plt.figure(figsize=(10, 6))\n",
    "df.groupby('Department')['Mentor_Feedback_Score'].mean().sort_values().plot(kind='bar', color='coral')\n",
    "plt.title('Average Mentor Feedback Score by Department')\n",
    "plt.ylabel('Average Feedback Score')\n",
    "plt.show()"
   ]
  },
  {
   "cell_type": "markdown",
   "id": "d28eea67-f0e7-4e70-aa54-1ec7b44d34a4",
   "metadata": {},
   "source": [
    "✅ Key EDA Observations:\n",
    "- Most tasks are completed in under 10 days\n",
    "- Tech & Marketing tend to have higher project quality\n",
    "- Mentor feedback scores vary more in HR and Design"
   ]
  },
  {
   "cell_type": "markdown",
   "id": "22ed3af4",
   "metadata": {},
   "source": [
    "## 📈 Monthly Report Summary\n",
    "Group data by month to create a summary for supervisors."
   ]
  },
  {
   "cell_type": "code",
   "execution_count": 49,
   "id": "a55ac4d3",
   "metadata": {},
   "outputs": [
    {
     "data": {
      "text/html": [
       "<div>\n",
       "<style scoped>\n",
       "    .dataframe tbody tr th:only-of-type {\n",
       "        vertical-align: middle;\n",
       "    }\n",
       "\n",
       "    .dataframe tbody tr th {\n",
       "        vertical-align: top;\n",
       "    }\n",
       "\n",
       "    .dataframe thead th {\n",
       "        text-align: right;\n",
       "    }\n",
       "</style>\n",
       "<table border=\"1\" class=\"dataframe\">\n",
       "  <thead>\n",
       "    <tr style=\"text-align: right;\">\n",
       "      <th></th>\n",
       "      <th>Month</th>\n",
       "      <th>Total Tasks</th>\n",
       "      <th>Avg Completion Time</th>\n",
       "      <th>Avg Quality Score</th>\n",
       "      <th>Avg Feedback Score</th>\n",
       "    </tr>\n",
       "  </thead>\n",
       "  <tbody>\n",
       "    <tr>\n",
       "      <th>3</th>\n",
       "      <td>January</td>\n",
       "      <td>1634</td>\n",
       "      <td>7.455431</td>\n",
       "      <td>5.399633</td>\n",
       "      <td>3.470012</td>\n",
       "    </tr>\n",
       "    <tr>\n",
       "      <th>2</th>\n",
       "      <td>February</td>\n",
       "      <td>1497</td>\n",
       "      <td>7.675541</td>\n",
       "      <td>5.180361</td>\n",
       "      <td>3.409486</td>\n",
       "    </tr>\n",
       "    <tr>\n",
       "      <th>4</th>\n",
       "      <td>March</td>\n",
       "      <td>1693</td>\n",
       "      <td>7.600296</td>\n",
       "      <td>5.190195</td>\n",
       "      <td>3.411105</td>\n",
       "    </tr>\n",
       "    <tr>\n",
       "      <th>0</th>\n",
       "      <td>April</td>\n",
       "      <td>1663</td>\n",
       "      <td>7.740686</td>\n",
       "      <td>5.313289</td>\n",
       "      <td>3.426338</td>\n",
       "    </tr>\n",
       "    <tr>\n",
       "      <th>5</th>\n",
       "      <td>May</td>\n",
       "      <td>1396</td>\n",
       "      <td>7.626838</td>\n",
       "      <td>5.085960</td>\n",
       "      <td>3.375358</td>\n",
       "    </tr>\n",
       "    <tr>\n",
       "      <th>6</th>\n",
       "      <td>November</td>\n",
       "      <td>334</td>\n",
       "      <td>7.288973</td>\n",
       "      <td>5.116766</td>\n",
       "      <td>3.443114</td>\n",
       "    </tr>\n",
       "    <tr>\n",
       "      <th>1</th>\n",
       "      <td>December</td>\n",
       "      <td>1783</td>\n",
       "      <td>7.658333</td>\n",
       "      <td>5.389792</td>\n",
       "      <td>3.437465</td>\n",
       "    </tr>\n",
       "  </tbody>\n",
       "</table>\n",
       "</div>"
      ],
      "text/plain": [
       "      Month  Total Tasks  Avg Completion Time  Avg Quality Score  \\\n",
       "3   January         1634             7.455431           5.399633   \n",
       "2  February         1497             7.675541           5.180361   \n",
       "4     March         1693             7.600296           5.190195   \n",
       "0     April         1663             7.740686           5.313289   \n",
       "5       May         1396             7.626838           5.085960   \n",
       "6  November          334             7.288973           5.116766   \n",
       "1  December         1783             7.658333           5.389792   \n",
       "\n",
       "   Avg Feedback Score  \n",
       "3            3.470012  \n",
       "2            3.409486  \n",
       "4            3.411105  \n",
       "0            3.426338  \n",
       "5            3.375358  \n",
       "6            3.443114  \n",
       "1            3.437465  "
      ]
     },
     "execution_count": 49,
     "metadata": {},
     "output_type": "execute_result"
    }
   ],
   "source": [
    "# Prepare monthly summary\n",
    "monthly_summary = df.groupby('Month').agg({\n",
    "    'Intern ID': 'count',\n",
    "    'Task_Completion_Days': 'mean',\n",
    "    'Project_Quality_Score': 'mean',\n",
    "    'Mentor_Feedback_Score': 'mean'\n",
    "}).reset_index()\n",
    "\n",
    "# Order months correctly\n",
    "month_order = ['January', 'February', 'March', 'April', 'May', 'June',\n",
    "               'July', 'August', 'September', 'October', 'November', 'December']\n",
    "monthly_summary['Month'] = pd.Categorical(monthly_summary['Month'], categories=month_order, ordered=True)\n",
    "monthly_summary = monthly_summary.sort_values('Month')\n",
    "\n",
    "monthly_summary.rename(columns={\n",
    "    'Intern ID': 'Total Tasks',\n",
    "    'Task_Completion_Days': 'Avg Completion Time',\n",
    "    'Project_Quality_Score': 'Avg Quality Score',\n",
    "    'Mentor_Feedback_Score': 'Avg Feedback Score'\n",
    "}, inplace=True)\n",
    "\n",
    "monthly_summary"
   ]
  },
  {
   "cell_type": "markdown",
   "id": "d4b9657b-bc9c-4d18-a427-dddce1a083d6",
   "metadata": {},
   "source": [
    "This summary helps managers quickly understand how intern performance changes month to month."
   ]
  },
  {
   "cell_type": "markdown",
   "id": "37b68520",
   "metadata": {},
   "source": [
    "## 💾 Export the Monthly Report\n",
    "You can save the report as an Excel file for supervisors."
   ]
  },
  {
   "cell_type": "code",
   "execution_count": 46,
   "id": "745fab0a-8212-4970-9c13-f845618784c3",
   "metadata": {},
   "outputs": [
    {
     "name": "stdout",
     "output_type": "stream",
     "text": [
      "✅ Exported cleaned data and monthly report.\n"
     ]
    }
   ],
   "source": [
    "# Save cleaned dataset and report\n",
    "df.to_csv(\"Cleaned_Intern_Performance_Data.csv\", index=False)\n",
    "monthly_summary.to_excel(\"Monthly_Performance_Summary.xlsx\", index=False)\n",
    "\n",
    "print(\"✅ Exported cleaned data and monthly report.\")"
   ]
  },
  {
   "cell_type": "markdown",
   "id": "602eadd6-7d47-44da-bb4a-dbfeaccdeb0b",
   "metadata": {},
   "source": [
    "# 🧠 Final Insights"
   ]
  },
  {
   "cell_type": "markdown",
   "id": "5287f3cc-9423-46b1-9827-9e837ee4de32",
   "metadata": {},
   "source": [
    "- ✅ Most interns complete tasks between 5–10 days.\n",
    "- 📈 Quality scores are highest in Tech and Marketing.\n",
    "- 💬 Mentor feedback varies across departments, showing where guidance is needed.\n",
    "- 📊 Performance trends improve month-over-month in several teams."
   ]
  },
  {
   "cell_type": "markdown",
   "id": "635c76ab-2d5d-474d-b494-3db6914b1e76",
   "metadata": {},
   "source": [
    "## 💡 Recommendations"
   ]
  },
  {
   "cell_type": "markdown",
   "id": "c99a3a57-73b6-4f0d-9e8c-a8ae276ccc21",
   "metadata": {},
   "source": [
    "- Share successful mentorship patterns from top departments.\n",
    "- Standardize task timelines by department.\n",
    "- Use this dashboard monthly for intern program review."
   ]
  },
  {
   "cell_type": "code",
   "execution_count": null,
   "id": "0ed7f5c3-7190-4755-971e-efa0a6ef0e08",
   "metadata": {},
   "outputs": [],
   "source": []
  }
 ],
 "metadata": {
  "kernelspec": {
   "display_name": "Python 3 (ipykernel)",
   "language": "python",
   "name": "python3"
  },
  "language_info": {
   "codemirror_mode": {
    "name": "ipython",
    "version": 3
   },
   "file_extension": ".py",
   "mimetype": "text/x-python",
   "name": "python",
   "nbconvert_exporter": "python",
   "pygments_lexer": "ipython3",
   "version": "3.11.7"
  }
 },
 "nbformat": 4,
 "nbformat_minor": 5
}
